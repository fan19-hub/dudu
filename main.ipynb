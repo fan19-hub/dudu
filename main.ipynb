{
  "nbformat": 4,
  "nbformat_minor": 0,
  "metadata": {
    "colab": {
      "provenance": [],
      "authorship_tag": "ABX9TyNdLYq0CY/Ieqqqgv9h1ExV",
      "include_colab_link": true
    },
    "kernelspec": {
      "name": "python3",
      "display_name": "Python 3"
    },
    "language_info": {
      "name": "python"
    }
  },
  "cells": [
    {
      "cell_type": "markdown",
      "metadata": {
        "id": "view-in-github",
        "colab_type": "text"
      },
      "source": [
        "<a href=\"https://colab.research.google.com/github/fan19-hub/dudu/blob/main/main.ipynb\" target=\"_parent\"><img src=\"https://colab.research.google.com/assets/colab-badge.svg\" alt=\"Open In Colab\"/></a>"
      ]
    },
    {
      "cell_type": "code",
      "execution_count": 1,
      "metadata": {
        "id": "W7Hglic8HAsD",
        "colab": {
          "base_uri": "https://localhost:8080/"
        },
        "outputId": "f8bcb172-4e12-4de6-f913-1243086e235b"
      },
      "outputs": [
        {
          "output_type": "stream",
          "name": "stdout",
          "text": [
            "'CMU MIIS PS.docx'   drive   sample_data\n"
          ]
        }
      ],
      "source": [
        "!ls\n"
      ]
    }
  ]
}